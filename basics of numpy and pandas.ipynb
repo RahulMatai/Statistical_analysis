{
 "cells": [
  {
   "cell_type": "markdown",
   "metadata": {},
   "source": [
    "# STAT40800 Data Programming with Python\n",
    "## Dr. Áine Byrne\n"
   ]
  },
  {
   "cell_type": "markdown",
   "metadata": {},
   "source": [
    "# Week 3\n",
    "Last week we introduced modules and packages and began to look at the Numpy package. Numpy is particularly good for linear alegbra and manipulating array. This week we will delve a little deeper into Numpy and also introduce the pandas package."
   ]
  },
  {
   "cell_type": "code",
   "execution_count": 1,
   "metadata": {},
   "outputs": [],
   "source": [
    "import numpy as np"
   ]
  },
  {
   "cell_type": "markdown",
   "metadata": {},
   "source": [
    "## Linear algebra in Python\n",
    "We will predominantly be using Numpy for linear algebra, but you should be aware of Scipy which shares a lot of Numpy's functionalities.\n",
    "\n",
    "* The main goal of NumPy is to enable computation with arrays, such as creating, editing, sorting, etc\n",
    "* The main goal of SciPy is to enable scientific computation with data\n",
    "* They both contain functions for linear algebra, almost always with the same name and functionality\n",
    "* We're going to continue using the NumPy linear algebra functions, but be aware that most commands could be re-run with the SciPy package instead\n",
    "\n",
    "Last week we encountered some of the Numpy functions for creating matrices:"
   ]
  },
  {
   "cell_type": "code",
   "execution_count": 6,
   "metadata": {},
   "outputs": [],
   "source": [
    "A = np.array((range(5),[10]*5))\n",
    "B = np.random.rand(5,5)#5*5 matrix\n",
    "C = np.ones((5,2))# first argument defines rows another argument defines the rowscreate  matrix with one values at defined dimensions\n",
    "D = np.eye(5)#to create identity matrix"
   ]
  },
  {
   "cell_type": "code",
   "execution_count": 10,
   "metadata": {},
   "outputs": [
    {
     "name": "stdout",
     "output_type": "stream",
     "text": [
      "[[ 0  1  2  3  4]\n",
      " [10 10 10 10 10]]\n"
     ]
    }
   ],
   "source": [
    "print(A)"
   ]
  },
  {
   "cell_type": "code",
   "execution_count": 19,
   "metadata": {},
   "outputs": [
    {
     "name": "stdout",
     "output_type": "stream",
     "text": [
      "[[20 20 20]\n",
      " [40 40 40]\n",
      " [60 60 60]]\n"
     ]
    }
   ],
   "source": [
    "#non accesed exercise \n",
    "import numpy as np\n",
    "X = np.array((range(1,5),[2,4,6,8],[3,6,9,12]))\n",
    "Y =np.array(([2,2,2],[2,2,2],[2,2,2],[2,2,2]))\n",
    "# print(X)\n",
    "# print(Y)\n",
    "print(X.dot(Y))"
   ]
  },
  {
   "cell_type": "code",
   "execution_count": 8,
   "metadata": {},
   "outputs": [
    {
     "name": "stdout",
     "output_type": "stream",
     "text": [
      "[[1. 1.]\n",
      " [1. 1.]\n",
      " [1. 1.]\n",
      " [1. 1.]\n",
      " [1. 1.]]\n"
     ]
    }
   ],
   "source": [
    "print(C)"
   ]
  },
  {
   "cell_type": "code",
   "execution_count": 9,
   "metadata": {},
   "outputs": [
    {
     "name": "stdout",
     "output_type": "stream",
     "text": [
      "[[1. 0. 0. 0. 0.]\n",
      " [0. 1. 0. 0. 0.]\n",
      " [0. 0. 1. 0. 0.]\n",
      " [0. 0. 0. 1. 0.]\n",
      " [0. 0. 0. 0. 1.]]\n"
     ]
    }
   ],
   "source": [
    "print(D)"
   ]
  },
  {
   "cell_type": "code",
   "execution_count": 5,
   "metadata": {},
   "outputs": [
    {
     "name": "stdout",
     "output_type": "stream",
     "text": [
      "[range(0, 5) 50]\n"
     ]
    }
   ],
   "source": [
    "print(A)"
   ]
  },
  {
   "cell_type": "code",
   "execution_count": 7,
   "metadata": {},
   "outputs": [
    {
     "name": "stdout",
     "output_type": "stream",
     "text": [
      "[[4.13091001e-03 8.47567321e-01 9.22262013e-01 6.52654666e-01\n",
      "  8.80623252e-01]\n",
      " [2.03655634e-01 1.14307624e-01 6.17861129e-01 7.24811370e-01\n",
      "  1.64249109e-01]\n",
      " [4.39933646e-01 4.23036506e-01 8.37663762e-02 4.12315747e-01\n",
      "  1.97646841e-01]\n",
      " [2.47181537e-01 5.60444240e-01 2.10991134e-02 2.38380699e-05\n",
      "  7.10894692e-01]\n",
      " [5.17299527e-02 4.67423185e-01 8.29034571e-01 5.20892656e-01\n",
      "  5.26496712e-01]]\n"
     ]
    }
   ],
   "source": [
    "print(B)"
   ]
  },
  {
   "cell_type": "code",
   "execution_count": null,
   "metadata": {},
   "outputs": [],
   "source": [
    "print(D)"
   ]
  },
  {
   "cell_type": "markdown",
   "metadata": {},
   "source": [
    "### Matrix multiplication\n",
    "We saw last week that we could preform element-by-element multiplication using the multiplication operator `*`. To perform matrix multiplication we use `dot`. \n",
    "\n",
    "**Note:** If $X$ and $Y$ are matrices $XY$ is not necessarily equal to $YX$. The order is important for matrix multiplication. Additionally, the number of columns in the first matrix must match the number of rows in the second matrix."
   ]
  },
  {
   "cell_type": "code",
   "execution_count": null,
   "metadata": {},
   "outputs": [],
   "source": [
    "print(A.dot(B))"
   ]
  },
  {
   "cell_type": "markdown",
   "metadata": {},
   "source": [
    "`dot` is a numpy function and method. It can be used, as above, as a method, or as a function, shown below. When used as a method, it is applied to a numpy array with an additional array as an input argument. When used as a function, we must use the numpy prefix `np` and give two input arguments, the two arrays to be multiplied. "
   ]
  },
  {
   "cell_type": "code",
   "execution_count": null,
   "metadata": {},
   "outputs": [],
   "source": [
    "print(np.dot(A,B))"
   ]
  },
  {
   "cell_type": "markdown",
   "metadata": {},
   "source": [
    "In Numpy, many operations are implemented as both functions and methods. Both approaches give the same answer. It is a matter of personal preference which approach you use. \n",
    "\n",
    "In general, methods alter the object they are applied to, although this is not typically the case for Numpy methods. While functions leave the object itself unchanged and simply output the result of the operation.\n",
    "\n",
    "#### Exercise 1\n",
    "Create the following matrices in Python,\n",
    "$$X=\\begin{pmatrix} 1&2&3&4 \\\\ 2&4&6&8 \\\\ 3&6&9&12 \\end{pmatrix}, \\hspace{0.5cm}Y=\\begin{pmatrix} 2&2&2 \\\\ 2&2&2 \\\\ 2&2&2 \\\\2&2&2 \\end{pmatrix},$$\n",
    "and compute the matrix product $XY$ and $YX$. Do they give the same result?"
   ]
  },
  {
   "cell_type": "code",
   "execution_count": 26,
   "metadata": {},
   "outputs": [
    {
     "name": "stdout",
     "output_type": "stream",
     "text": [
      "[[20 20 20]\n",
      " [40 40 40]\n",
      " [60 60 60]]\n"
     ]
    }
   ],
   "source": [
    "#non accesed exercise \n",
    "import numpy as np\n",
    "X = np.array((range(1,5),[2,4,6,8],[3,6,9,12]))\n",
    "Y =np.array(([2,2,2],[2,2,2],[2,2,2],[2,2,2]))\n",
    "# print(X)\n",
    "# print(Y)\n",
    "print(X.dot(Y))"
   ]
  },
  {
   "cell_type": "markdown",
   "metadata": {},
   "source": [
    "### Other useful matrix commands\n",
    "The transpose of a matrix is an attribute of the matrix, accessed using `.T`. We can allow apply the transpose method to find the transpose."
   ]
  },
  {
   "cell_type": "code",
   "execution_count": 27,
   "metadata": {},
   "outputs": [
    {
     "name": "stdout",
     "output_type": "stream",
     "text": [
      "[[0.62931286 0.29301315 0.11848313 0.85692086 0.19653696]\n",
      " [0.98444486 0.45093543 0.49458855 0.05628936 0.81938222]\n",
      " [0.1831626  0.44961356 0.22929457 0.42174352 0.71211918]\n",
      " [0.9414881  0.94800833 0.83935279 0.02514507 0.34760449]\n",
      " [0.23677709 0.15768588 0.51397033 0.25178105 0.22258346]]\n",
      "[[0.62931286 0.29301315 0.11848313 0.85692086 0.19653696]\n",
      " [0.98444486 0.45093543 0.49458855 0.05628936 0.81938222]\n",
      " [0.1831626  0.44961356 0.22929457 0.42174352 0.71211918]\n",
      " [0.9414881  0.94800833 0.83935279 0.02514507 0.34760449]\n",
      " [0.23677709 0.15768588 0.51397033 0.25178105 0.22258346]]\n"
     ]
    }
   ],
   "source": [
    "print(A.T)\n",
    "print(A.transpose())"
   ]
  },
  {
   "cell_type": "markdown",
   "metadata": {},
   "source": [
    "We can extract the entries along the diagonal using the Numpy `diag` function or by applying the `diagonal` method to a Numpy array. Similarly, `trace` will compute the trace of the matrix (sum of diagonal entries)."
   ]
  },
  {
   "cell_type": "code",
   "execution_count": 28,
   "metadata": {},
   "outputs": [
    {
     "name": "stdout",
     "output_type": "stream",
     "text": [
      "[1. 1. 1. 1. 1.]\n",
      "5.0\n"
     ]
    }
   ],
   "source": [
    "print(D.diagonal())\n",
    "print(D.trace())"
   ]
  },
  {
   "cell_type": "markdown",
   "metadata": {},
   "source": [
    "Many matrix operations live within the linear algebra module of Numpy. Modules can be imported wih shortcuts, just like packages."
   ]
  },
  {
   "cell_type": "code",
   "execution_count": 33,
   "metadata": {},
   "outputs": [],
   "source": [
    "import numpy.linalg as npl"
   ]
  },
  {
   "cell_type": "markdown",
   "metadata": {},
   "source": [
    "Now we can use functions from this module with the prefix `npl`. Below are a couple of examples.\n",
    "\n",
    "**Inverse**"
   ]
  },
  {
   "cell_type": "code",
   "execution_count": 31,
   "metadata": {},
   "outputs": [
    {
     "name": "stdout",
     "output_type": "stream",
     "text": [
      "[[ 0.64201109 -0.02868955 -0.50155066  0.89255746 -0.51412839]\n",
      " [ 0.98379325 -1.05809825 -0.21965027 -0.51114907  0.78846299]\n",
      " [-1.12491297  1.08598086 -0.36985672  0.2863311   0.95744944]\n",
      " [-0.04704706  1.32088738  0.04043803 -0.26755881 -0.67643543]\n",
      " [-0.51601197 -1.61678114  2.3715886   0.5953214   0.03731886]]\n"
     ]
    }
   ],
   "source": [
    "print(npl.inv(A))"
   ]
  },
  {
   "cell_type": "markdown",
   "metadata": {},
   "source": [
    "**Determinant**"
   ]
  },
  {
   "cell_type": "code",
   "execution_count": 32,
   "metadata": {},
   "outputs": [
    {
     "ename": "LinAlgError",
     "evalue": "Last 2 dimensions of the array must be square",
     "output_type": "error",
     "traceback": [
      "\u001b[1;31m---------------------------------------------------------------------------\u001b[0m",
      "\u001b[1;31mLinAlgError\u001b[0m                               Traceback (most recent call last)",
      "\u001b[1;32mC:\\Users\\RAHULM~1\\AppData\\Local\\Temp/ipykernel_9168/1905025587.py\u001b[0m in \u001b[0;36m<module>\u001b[1;34m\u001b[0m\n\u001b[1;32m----> 1\u001b[1;33m \u001b[0mprint\u001b[0m\u001b[1;33m(\u001b[0m\u001b[0mnpl\u001b[0m\u001b[1;33m.\u001b[0m\u001b[0mdet\u001b[0m\u001b[1;33m(\u001b[0m\u001b[0mB\u001b[0m\u001b[1;33m)\u001b[0m\u001b[1;33m)\u001b[0m\u001b[1;33m\u001b[0m\u001b[1;33m\u001b[0m\u001b[0m\n\u001b[0m",
      "\u001b[1;32m<__array_function__ internals>\u001b[0m in \u001b[0;36mdet\u001b[1;34m(*args, **kwargs)\u001b[0m\n",
      "\u001b[1;32mc:\\Users\\Rahul Matai\\AppData\\Local\\Programs\\Python\\Python37\\lib\\site-packages\\numpy\\linalg\\linalg.py\u001b[0m in \u001b[0;36mdet\u001b[1;34m(a)\u001b[0m\n\u001b[0;32m   2153\u001b[0m     \u001b[0ma\u001b[0m \u001b[1;33m=\u001b[0m \u001b[0masarray\u001b[0m\u001b[1;33m(\u001b[0m\u001b[0ma\u001b[0m\u001b[1;33m)\u001b[0m\u001b[1;33m\u001b[0m\u001b[1;33m\u001b[0m\u001b[0m\n\u001b[0;32m   2154\u001b[0m     \u001b[0m_assert_stacked_2d\u001b[0m\u001b[1;33m(\u001b[0m\u001b[0ma\u001b[0m\u001b[1;33m)\u001b[0m\u001b[1;33m\u001b[0m\u001b[1;33m\u001b[0m\u001b[0m\n\u001b[1;32m-> 2155\u001b[1;33m     \u001b[0m_assert_stacked_square\u001b[0m\u001b[1;33m(\u001b[0m\u001b[0ma\u001b[0m\u001b[1;33m)\u001b[0m\u001b[1;33m\u001b[0m\u001b[1;33m\u001b[0m\u001b[0m\n\u001b[0m\u001b[0;32m   2156\u001b[0m     \u001b[0mt\u001b[0m\u001b[1;33m,\u001b[0m \u001b[0mresult_t\u001b[0m \u001b[1;33m=\u001b[0m \u001b[0m_commonType\u001b[0m\u001b[1;33m(\u001b[0m\u001b[0ma\u001b[0m\u001b[1;33m)\u001b[0m\u001b[1;33m\u001b[0m\u001b[1;33m\u001b[0m\u001b[0m\n\u001b[0;32m   2157\u001b[0m     \u001b[0msignature\u001b[0m \u001b[1;33m=\u001b[0m \u001b[1;34m'D->D'\u001b[0m \u001b[1;32mif\u001b[0m \u001b[0misComplexType\u001b[0m\u001b[1;33m(\u001b[0m\u001b[0mt\u001b[0m\u001b[1;33m)\u001b[0m \u001b[1;32melse\u001b[0m \u001b[1;34m'd->d'\u001b[0m\u001b[1;33m\u001b[0m\u001b[1;33m\u001b[0m\u001b[0m\n",
      "\u001b[1;32mc:\\Users\\Rahul Matai\\AppData\\Local\\Programs\\Python\\Python37\\lib\\site-packages\\numpy\\linalg\\linalg.py\u001b[0m in \u001b[0;36m_assert_stacked_square\u001b[1;34m(*arrays)\u001b[0m\n\u001b[0;32m    201\u001b[0m         \u001b[0mm\u001b[0m\u001b[1;33m,\u001b[0m \u001b[0mn\u001b[0m \u001b[1;33m=\u001b[0m \u001b[0ma\u001b[0m\u001b[1;33m.\u001b[0m\u001b[0mshape\u001b[0m\u001b[1;33m[\u001b[0m\u001b[1;33m-\u001b[0m\u001b[1;36m2\u001b[0m\u001b[1;33m:\u001b[0m\u001b[1;33m]\u001b[0m\u001b[1;33m\u001b[0m\u001b[1;33m\u001b[0m\u001b[0m\n\u001b[0;32m    202\u001b[0m         \u001b[1;32mif\u001b[0m \u001b[0mm\u001b[0m \u001b[1;33m!=\u001b[0m \u001b[0mn\u001b[0m\u001b[1;33m:\u001b[0m\u001b[1;33m\u001b[0m\u001b[1;33m\u001b[0m\u001b[0m\n\u001b[1;32m--> 203\u001b[1;33m             \u001b[1;32mraise\u001b[0m \u001b[0mLinAlgError\u001b[0m\u001b[1;33m(\u001b[0m\u001b[1;34m'Last 2 dimensions of the array must be square'\u001b[0m\u001b[1;33m)\u001b[0m\u001b[1;33m\u001b[0m\u001b[1;33m\u001b[0m\u001b[0m\n\u001b[0m\u001b[0;32m    204\u001b[0m \u001b[1;33m\u001b[0m\u001b[0m\n\u001b[0;32m    205\u001b[0m \u001b[1;32mdef\u001b[0m \u001b[0m_assert_finite\u001b[0m\u001b[1;33m(\u001b[0m\u001b[1;33m*\u001b[0m\u001b[0marrays\u001b[0m\u001b[1;33m)\u001b[0m\u001b[1;33m:\u001b[0m\u001b[1;33m\u001b[0m\u001b[1;33m\u001b[0m\u001b[0m\n",
      "\u001b[1;31mLinAlgError\u001b[0m: Last 2 dimensions of the array must be square"
     ]
    }
   ],
   "source": [
    "print(npl.det(B))"
   ]
  },
  {
   "cell_type": "markdown",
   "metadata": {},
   "source": [
    "**Eigenvalues**"
   ]
  },
  {
   "cell_type": "code",
   "execution_count": null,
   "metadata": {
    "scrolled": true
   },
   "outputs": [],
   "source": [
    "print(npl.eigvals(B))"
   ]
  },
  {
   "cell_type": "markdown",
   "metadata": {},
   "source": [
    "### Matrix decomposition"
   ]
  },
  {
   "cell_type": "markdown",
   "metadata": {},
   "source": [
    "Decomposing matrices is a very common operation in multivariate analysis. NumPy performs the usual Singular Value Decomposition (SVD) via `svd`, QR decomposition via `qr`, and Eigen decomposition via `eig`, as well as many others. Below is an illustration of QR decomposition:"
   ]
  },
  {
   "cell_type": "code",
   "execution_count": null,
   "metadata": {},
   "outputs": [],
   "source": [
    "M = np.array([[3,6,1],[2,3,7],[9,2,5]])\n",
    "my_qr = npl.qr(M)                       # Extract matrices\n",
    "print(my_qr[0])                         # Q matrix \n",
    "print(my_qr[1])                         # R matrix\n",
    "print(my_qr[0].dot(my_qr[1]))           # Check decomposition"
   ]
  },
  {
   "cell_type": "markdown",
   "metadata": {},
   "source": [
    "### Solving matrix equations\n",
    "A matrix equation is an equation of the form $$AX=B,$$where $A$ is an $n\\times n$ matrix, $X$ is an $n\\times m$ matrix and $B$ is an $n\\times m$ matrix. We will typically be asked to solve for $X$ given a particular $A$ and $B$. \n",
    "\n",
    "Many novices when implementing the code take this as a requirement to call `npl.inv`, as $X=A^{-1}B$.\n",
    "However, inverting matrices is a *very computationally demanding* task. Calling `npl.solve` is almost certainly faster."
   ]
  },
  {
   "cell_type": "code",
   "execution_count": 37,
   "metadata": {},
   "outputs": [
    {
     "name": "stdout",
     "output_type": "stream",
     "text": [
      "[[0.20030942 0.12990311 0.990644   0.21496815 0.76447263]\n",
      " [0.2888673  0.6964117  0.92204044 0.70186874 0.13983626]\n",
      " [0.81558743 0.0884806  0.02706435 0.55793913 0.88576011]\n",
      " [0.87308723 0.35858334 0.44617365 0.3288785  0.5347541 ]\n",
      " [0.29197515 0.93931884 0.71338778 0.62166651 0.49866888]]\n"
     ]
    }
   ],
   "source": [
    "A = np.random.rand(5,5)\n",
    "print(A)"
   ]
  },
  {
   "cell_type": "code",
   "execution_count": 38,
   "metadata": {},
   "outputs": [
    {
     "name": "stdout",
     "output_type": "stream",
     "text": [
      "[[0.94608156 0.94865778]\n",
      " [0.34520873 0.20273013]\n",
      " [0.83302023 0.88809487]\n",
      " [0.75845607 0.1396863 ]\n",
      " [0.66842796 0.76928657]]\n"
     ]
    }
   ],
   "source": [
    "B = np.random.rand(5,2)\n",
    "print(B)"
   ]
  },
  {
   "cell_type": "code",
   "execution_count": 39,
   "metadata": {},
   "outputs": [
    {
     "name": "stdout",
     "output_type": "stream",
     "text": [
      "[[ 0.23525533 -0.9200323 ]\n",
      " [ 0.15816907  0.08939952]\n",
      " [ 0.26847593 -0.16202728]\n",
      " [-0.290505    0.48473622]\n",
      " [ 0.88282598  1.54046606]]\n"
     ]
    }
   ],
   "source": [
    "print(npl.solve(A,B))"
   ]
  },
  {
   "cell_type": "code",
   "execution_count": 34,
   "metadata": {},
   "outputs": [
    {
     "name": "stdout",
     "output_type": "stream",
     "text": [
      "[[-1.25706227 -1.52843315]\n",
      " [-0.16175052 -1.61061667]\n",
      " [ 1.74647993 -0.13990437]\n",
      " [ 1.62291537 -0.3965789 ]\n",
      " [-0.76629119  5.39590778]]\n"
     ]
    }
   ],
   "source": [
    "A = np.random.rand(5,5)\n",
    "B = np.random.rand(5,2)\n",
    "print(npl.solve(A,B))"
   ]
  },
  {
   "cell_type": "code",
   "execution_count": 40,
   "metadata": {},
   "outputs": [
    {
     "name": "stdout",
     "output_type": "stream",
     "text": [
      "[[0.94608156 0.94865778]\n",
      " [0.34520873 0.20273013]\n",
      " [0.83302023 0.88809487]\n",
      " [0.75845607 0.1396863 ]\n",
      " [0.66842796 0.76928657]]\n",
      "[[0.94608156 0.94865778]\n",
      " [0.34520873 0.20273013]\n",
      " [0.83302023 0.88809487]\n",
      " [0.75845607 0.1396863 ]\n",
      " [0.66842796 0.76928657]]\n"
     ]
    }
   ],
   "source": [
    "X=npl.solve(A,B)\n",
    "print(A.dot(X))\n",
    "print(B)"
   ]
  },
  {
   "cell_type": "markdown",
   "metadata": {},
   "source": [
    "We can use the iPython (interactive Python) command `timeit` to time how long it takes particular pieces of code to run. iPython commands are called with a `%`. `timeit` runs the code multiple times to get an accurate representation of how long the code takes to run."
   ]
  },
  {
   "cell_type": "code",
   "execution_count": 41,
   "metadata": {},
   "outputs": [
    {
     "name": "stdout",
     "output_type": "stream",
     "text": [
      "48.4 µs ± 808 ns per loop (mean ± std. dev. of 7 runs, 10000 loops each)\n"
     ]
    }
   ],
   "source": [
    "%timeit npl.inv(A).dot(B)"
   ]
  },
  {
   "cell_type": "code",
   "execution_count": 42,
   "metadata": {},
   "outputs": [
    {
     "name": "stdout",
     "output_type": "stream",
     "text": [
      "31.5 µs ± 444 ns per loop (mean ± std. dev. of 7 runs, 10000 loops each)\n"
     ]
    }
   ],
   "source": [
    "%timeit npl.solve(A,B)"
   ]
  },
  {
   "cell_type": "code",
   "execution_count": 59,
   "metadata": {},
   "outputs": [
    {
     "name": "stdout",
     "output_type": "stream",
     "text": [
      "[['x']\n",
      " ['y']\n",
      " ['z']]\n"
     ]
    }
   ],
   "source": [
    "a= np.array(([2,1,-7],[6,-2,-1],[1,-5,2]))\n",
    "b=np.array((['x'],['y'],['z']))\n",
    "c= np.array(([10,5,8]))\n",
    "\n",
    "print(b)"
   ]
  },
  {
   "cell_type": "markdown",
   "metadata": {},
   "source": [
    "For smaller matrices there isn't a large time difference between the two approaches. Try increasing the number of rows and columns in $A$ and $B$ and see how long the two approaches take."
   ]
  },
  {
   "cell_type": "markdown",
   "metadata": {},
   "source": [
    "#### Exercise 2\n",
    "Write the system of equations\n",
    "$$ \\begin{align} &2x+y-7z = 10 \\\\ &6x-2y-z = 5 \\\\ &x-5y+2z = 8 \\end{align}$$\n",
    "as a matrix system and use the solve function to solve for $x$, $y$ and $z$."
   ]
  },
  {
   "cell_type": "code",
   "execution_count": 61,
   "metadata": {},
   "outputs": [
    {
     "name": "stdout",
     "output_type": "stream",
     "text": [
      "[-0.27272727 -2.39393939 -1.84848485]\n"
     ]
    }
   ],
   "source": [
    "a= np.array(([2,1,-7],[6,-2,-1],[1,-5,2]))\n",
    "#b=np.array((['x'],['y'],['z']))\n",
    "c= np.array(([10,5,8]))\n",
    "\n",
    "x= np.linalg.inv(a).dot(c)\n",
    "print(x)"
   ]
  },
  {
   "cell_type": "markdown",
   "metadata": {},
   "source": [
    "## Random sampling\n",
    "When performing statistical analysis we often make use of\n",
    "*probability distributions*. Common probability distributions include:\n",
    "* The uniform distribution (both discrete and continuous)\n",
    "* The normal distribution\n",
    "* The binomial distribution\n",
    "* The Poisson distribution\n",
    "* The gamma distribution\n",
    "\n",
    "Make sure you're familiar with these so you can follow the next section and later material we cover.\n",
    "\n",
    "In Python, random sampling is achieved using Numpy's random module. We will import it with the shortcut `npr`."
   ]
  },
  {
   "cell_type": "code",
   "execution_count": 62,
   "metadata": {},
   "outputs": [],
   "source": [
    "import numpy.random as npr"
   ]
  },
  {
   "cell_type": "markdown",
   "metadata": {},
   "source": [
    "**Note:** We used the random module above to create matrices of random number, but did not use the shortcut as we had not defined it. \n",
    "\n",
    "Most of the things discussed below can also be acheived using the [random package](https://docs.python.org/3/library/random.html). We will focus soley on on Numpy's random module as it has greater functionality. \n",
    "\n",
    "### Sampling from random distributions\n",
    "For the standard normal $N(0,1)$ and standard uniform $U(0,1)$ distribution, you only need to give NumPy the shape of the array you want."
   ]
  },
  {
   "cell_type": "code",
   "execution_count": 63,
   "metadata": {},
   "outputs": [
    {
     "name": "stdout",
     "output_type": "stream",
     "text": [
      "[[ 0.77679802  0.57758201 -0.44599219  0.30490964]\n",
      " [ 0.05448944 -0.09020276  0.62498978 -0.32534912]\n",
      " [ 1.78911137  0.11785067  1.35489049 -0.62790377]]\n",
      "[[0.50667987 0.30138944]\n",
      " [0.4576569  0.26550643]]\n"
     ]
    }
   ],
   "source": [
    "print(npr.randn(3,4))\n",
    "print(npr.rand(2,2))"
   ]
  },
  {
   "cell_type": "markdown",
   "metadata": {},
   "source": [
    "Other distributions require additional parameters, such as the mean $\\mu$ and standard deviation $\\sigma$ for the non-standard normal distribution $N(\\mu,\\sigma^2)$. When sampling from these distributions the shape is specified, as a tuple, using the size argument."
   ]
  },
  {
   "cell_type": "code",
   "execution_count": 64,
   "metadata": {},
   "outputs": [
    {
     "name": "stdout",
     "output_type": "stream",
     "text": [
      "[[9.4809493  7.63599356]\n",
      " [9.84469058 7.84931107]\n",
      " [8.33845913 9.15324512]]\n",
      "[[65 90 48 51 51 26]\n",
      " [97 59 76 12 77  0]]\n"
     ]
    }
   ],
   "source": [
    "print(npr.normal(10,2,size=(3,2)))\n",
    "print(npr.randint(0,100,size=(2,6)))"
   ]
  },
  {
   "cell_type": "code",
   "execution_count": 72,
   "metadata": {},
   "outputs": [
    {
     "name": "stdout",
     "output_type": "stream",
     "text": [
      "[[12.29809293  9.47823355]\n",
      " [13.06334526  7.73631927]\n",
      " [ 8.23074524 10.90322191]]\n"
     ]
    }
   ],
   "source": [
    "a = npr.normal(10,2,size=(3,2))#argument 1 indicates the mean of in which data should be and 2nd parameter indicated the standard deviation or nearness of data if we want data to be near the mean(first argument) it can be set as low as needed higher the second argument further the data will be for the mean defined in first argument\n",
    "print(a)\n",
    "# print(npr.randint(0,100,size=(2,6)))"
   ]
  },
  {
   "cell_type": "code",
   "execution_count": 78,
   "metadata": {},
   "outputs": [
    {
     "name": "stdout",
     "output_type": "stream",
     "text": [
      "[[70 83 40 90 35 95]\n",
      " [12 33 16 36 74 83]]\n"
     ]
    }
   ],
   "source": [
    "b= npr.randint(0,100,size=(2,6))#randint takes two arguments depending start and stop where first attribute indicates the start of the function second indicated the start \n",
    "print(b)"
   ]
  },
  {
   "cell_type": "markdown",
   "metadata": {},
   "source": [
    "### Taking a random sample\n",
    "Often you have a list or array and you want to take a random rearrange of the entries. The Numpy random functions `permutation` and `shuffle` will do this for you. Permutation returns the random sample but leaves the original array unchanged, while shuffle changes the existing array."
   ]
  },
  {
   "cell_type": "code",
   "execution_count": 83,
   "metadata": {},
   "outputs": [
    {
     "name": "stdout",
     "output_type": "stream",
     "text": [
      "[ 3  2  7  6  4  9  8  5  1 10]\n",
      "[ 1  2  3  4  5  6  7  8  9 10]\n"
     ]
    }
   ],
   "source": [
    "x = np.array([1,2,3,4,5,6,7,8,9,10])\n",
    "print(npr.permutation(x))\n",
    "print(x)"
   ]
  },
  {
   "cell_type": "code",
   "execution_count": 84,
   "metadata": {},
   "outputs": [
    {
     "name": "stdout",
     "output_type": "stream",
     "text": [
      "[ 4  1  6  3  5  7  9  8 10  2]\n"
     ]
    }
   ],
   "source": [
    "npr.shuffle(x)\n",
    "print(x)"
   ]
  },
  {
   "cell_type": "markdown",
   "metadata": {},
   "source": [
    "If you want to randomly select some of the entries from an array, you should use the `choice` function."
   ]
  },
  {
   "cell_type": "code",
   "execution_count": 85,
   "metadata": {},
   "outputs": [
    {
     "name": "stdout",
     "output_type": "stream",
     "text": [
      "[8 5]\n"
     ]
    }
   ],
   "source": [
    "print(npr.choice(x,2))"
   ]
  },
  {
   "cell_type": "markdown",
   "metadata": {},
   "source": [
    "### Random seed\n",
    "In practice, random number generators are pseudo-random. They rely on a deterministic algorithm and an initial value, known as a seed. Different seeds will produce different *seemingly random* results. Most random number generator uses the current system time as the default seed. Hence, every time you run the command `npr.rand()` you get a different \"random\" number.\n",
    "\n",
    "When simulating data for checking or debugging purposes, we typically want to get the same random values every time we run the code. As such, it is useful to specify the seed value yourself. This can be done using the command `npr.seed(s)`, where the seed value *s* is given as an integer. Now every time you run the code below you get the same \"random\" number."
   ]
  },
  {
   "cell_type": "code",
   "execution_count": 90,
   "metadata": {},
   "outputs": [
    {
     "name": "stdout",
     "output_type": "stream",
     "text": [
      "0.8195931178895832\n"
     ]
    }
   ],
   "source": [
    "npr.seed()\n",
    "print(npr.rand())"
   ]
  },
  {
   "cell_type": "markdown",
   "metadata": {},
   "source": [
    "**Note:** Using the seed command from the random package rather than Numpy's random module does not set the seed for functions/methods from Numpy's random module, and vice versa.\n",
    "\n",
    "#### Exercise 3\n",
    "Write a function `random_matrix` that outputs a matrix of random integers for a given seed. The function should have 5 arguments; the seed value $s$, the upper $u$ and lower $l$ bound for the range to sample over, and the number of rows $n$ and  columns $m$. The output should be an array with $n$ rows and $m$ columns, filled with integers between $l$ (inclusive) and $u$ (exclusive)."
   ]
  },
  {
   "cell_type": "code",
   "execution_count": null,
   "metadata": {},
   "outputs": [],
   "source": [
    "import numpy.random as npr\n",
    "def random_matrix(s,l,u,n,m):\n",
    "    npr.seed(s)\n",
    "    return npr.randint(l,u,size=(n,m))\n",
    "    "
   ]
  },
  {
   "cell_type": "code",
   "execution_count": 91,
   "metadata": {},
   "outputs": [
    {
     "name": "stdout",
     "output_type": "stream",
     "text": [
      "[[1 6 7 9 8 4 8 5 0 5]]\n"
     ]
    }
   ],
   "source": [
    "npr.seed(101)\n",
    "print(npr.randint(0,10,size=(1,10)))"
   ]
  },
  {
   "cell_type": "markdown",
   "metadata": {},
   "source": [
    "## Pandas\n",
    "Pandas is the main data analysis package we will use throughout this module. The two basic building blocks of Pandas are the structures *Series* and *DataFrame*. We import these functions separately to save typing the prefix every time we call them."
   ]
  },
  {
   "cell_type": "code",
   "execution_count": 77,
   "metadata": {},
   "outputs": [],
   "source": [
    "import pandas as pd\n",
    "from pandas import Series, DataFrame"
   ]
  },
  {
   "cell_type": "markdown",
   "metadata": {},
   "source": [
    "### Series\n",
    "A *Series* is a 1D data object, like a vector or 1D Numpy array. We use the `Series` function to create a Series from a list, tuple or dict.\n",
    "\n",
    "Printing out the Series, we see that the *index* is given along the left-hand side."
   ]
  },
  {
   "cell_type": "code",
   "execution_count": 78,
   "metadata": {},
   "outputs": [
    {
     "name": "stdout",
     "output_type": "stream",
     "text": [
      "0    1\n",
      "1    2\n",
      "2    3\n",
      "3    4\n",
      "dtype: int64\n"
     ]
    }
   ],
   "source": [
    "my_series = Series([1,2,3,4])\n",
    "print(my_series)"
   ]
  },
  {
   "cell_type": "markdown",
   "metadata": {},
   "source": [
    "The *index* and *values* are attributes of the Series accessed using `.index` and `.values`, respectively."
   ]
  },
  {
   "cell_type": "code",
   "execution_count": 94,
   "metadata": {},
   "outputs": [
    {
     "name": "stdout",
     "output_type": "stream",
     "text": [
      "RangeIndex(start=0, stop=4, step=1)\n",
      "[1 2 3 4]\n"
     ]
    }
   ],
   "source": [
    "print(my_series.index)\n",
    "print(my_series.values)"
   ]
  },
  {
   "cell_type": "markdown",
   "metadata": {},
   "source": [
    "Series are elements are accessed and sliced in the usual way."
   ]
  },
  {
   "cell_type": "code",
   "execution_count": 95,
   "metadata": {},
   "outputs": [
    {
     "name": "stdout",
     "output_type": "stream",
     "text": [
      "3\n"
     ]
    }
   ],
   "source": [
    "print(my_series[2])"
   ]
  },
  {
   "cell_type": "code",
   "execution_count": 96,
   "metadata": {},
   "outputs": [
    {
     "name": "stdout",
     "output_type": "stream",
     "text": [
      "1    2\n",
      "2    3\n",
      "dtype: int64\n"
     ]
    }
   ],
   "source": [
    "print(my_series[1:3])"
   ]
  },
  {
   "cell_type": "markdown",
   "metadata": {},
   "source": [
    "Series are *mutable*, but the indices are not."
   ]
  },
  {
   "cell_type": "code",
   "execution_count": 79,
   "metadata": {},
   "outputs": [
    {
     "name": "stdout",
     "output_type": "stream",
     "text": [
      "0    1\n",
      "1    5\n",
      "2    3\n",
      "3    4\n",
      "dtype: int64\n"
     ]
    }
   ],
   "source": [
    "my_series[1]=5\n",
    "print(my_series)"
   ]
  },
  {
   "cell_type": "code",
   "execution_count": 80,
   "metadata": {},
   "outputs": [
    {
     "ename": "TypeError",
     "evalue": "Index does not support mutable operations",
     "output_type": "error",
     "traceback": [
      "\u001b[1;31m---------------------------------------------------------------------------\u001b[0m",
      "\u001b[1;31mTypeError\u001b[0m                                 Traceback (most recent call last)",
      "\u001b[1;32mC:\\Users\\RAHULM~1\\AppData\\Local\\Temp/ipykernel_13284/2544934529.py\u001b[0m in \u001b[0;36m<module>\u001b[1;34m\u001b[0m\n\u001b[1;32m----> 1\u001b[1;33m \u001b[0mmy_series\u001b[0m\u001b[1;33m.\u001b[0m\u001b[0mindex\u001b[0m\u001b[1;33m[\u001b[0m\u001b[1;36m1\u001b[0m\u001b[1;33m]\u001b[0m\u001b[1;33m=\u001b[0m\u001b[1;36m5\u001b[0m\u001b[1;33m\u001b[0m\u001b[1;33m\u001b[0m\u001b[0m\n\u001b[0m",
      "\u001b[1;32mc:\\Users\\Rahul Matai\\AppData\\Local\\Programs\\Python\\Python37\\lib\\site-packages\\pandas\\core\\indexes\\base.py\u001b[0m in \u001b[0;36m__setitem__\u001b[1;34m(self, key, value)\u001b[0m\n\u001b[0;32m   4583\u001b[0m     \u001b[1;33m@\u001b[0m\u001b[0mfinal\u001b[0m\u001b[1;33m\u001b[0m\u001b[1;33m\u001b[0m\u001b[0m\n\u001b[0;32m   4584\u001b[0m     \u001b[1;32mdef\u001b[0m \u001b[0m__setitem__\u001b[0m\u001b[1;33m(\u001b[0m\u001b[0mself\u001b[0m\u001b[1;33m,\u001b[0m \u001b[0mkey\u001b[0m\u001b[1;33m,\u001b[0m \u001b[0mvalue\u001b[0m\u001b[1;33m)\u001b[0m\u001b[1;33m:\u001b[0m\u001b[1;33m\u001b[0m\u001b[1;33m\u001b[0m\u001b[0m\n\u001b[1;32m-> 4585\u001b[1;33m         \u001b[1;32mraise\u001b[0m \u001b[0mTypeError\u001b[0m\u001b[1;33m(\u001b[0m\u001b[1;34m\"Index does not support mutable operations\"\u001b[0m\u001b[1;33m)\u001b[0m\u001b[1;33m\u001b[0m\u001b[1;33m\u001b[0m\u001b[0m\n\u001b[0m\u001b[0;32m   4586\u001b[0m \u001b[1;33m\u001b[0m\u001b[0m\n\u001b[0;32m   4587\u001b[0m     \u001b[1;32mdef\u001b[0m \u001b[0m__getitem__\u001b[0m\u001b[1;33m(\u001b[0m\u001b[0mself\u001b[0m\u001b[1;33m,\u001b[0m \u001b[0mkey\u001b[0m\u001b[1;33m)\u001b[0m\u001b[1;33m:\u001b[0m\u001b[1;33m\u001b[0m\u001b[1;33m\u001b[0m\u001b[0m\n",
      "\u001b[1;31mTypeError\u001b[0m: Index does not support mutable operations"
     ]
    }
   ],
   "source": [
    "my_series.index[1]=5"
   ]
  },
  {
   "cell_type": "markdown",
   "metadata": {},
   "source": [
    "A key advantage of Series and DataFrames is that the you can specify index, as with a dict. "
   ]
  },
  {
   "cell_type": "code",
   "execution_count": 81,
   "metadata": {},
   "outputs": [
    {
     "name": "stdout",
     "output_type": "stream",
     "text": [
      "a    6\n",
      "d    9\n",
      "b    2\n",
      "c    5\n",
      "dtype: int64\n"
     ]
    }
   ],
   "source": [
    "my_series_2 = Series([6, 9, 2, 5],index=['a', 'd', 'b', 'c'])\n",
    "print(my_series_2)"
   ]
  },
  {
   "cell_type": "markdown",
   "metadata": {},
   "source": [
    "Elements are accessed in the same was as for a dict."
   ]
  },
  {
   "cell_type": "code",
   "execution_count": 100,
   "metadata": {},
   "outputs": [
    {
     "name": "stdout",
     "output_type": "stream",
     "text": [
      "5\n"
     ]
    }
   ],
   "source": [
    "print(my_series_2['c'])"
   ]
  },
  {
   "cell_type": "markdown",
   "metadata": {},
   "source": [
    "We can also use *Boolean indexing* to return elements that meet a particular condition."
   ]
  },
  {
   "cell_type": "code",
   "execution_count": 82,
   "metadata": {},
   "outputs": [
    {
     "name": "stdout",
     "output_type": "stream",
     "text": [
      "a    6\n",
      "d    9\n",
      "dtype: int64\n"
     ]
    }
   ],
   "source": [
    "print(my_series_2[my_series_2 > 5])"
   ]
  },
  {
   "cell_type": "code",
   "execution_count": 102,
   "metadata": {},
   "outputs": [
    {
     "name": "stdout",
     "output_type": "stream",
     "text": [
      "a     True\n",
      "d     True\n",
      "b    False\n",
      "c    False\n",
      "dtype: bool\n"
     ]
    }
   ],
   "source": [
    "print(my_series_2 > 5)"
   ]
  },
  {
   "cell_type": "markdown",
   "metadata": {},
   "source": [
    "Adding two Series creates a new Series, with a line for each unique index. If the index exists in both Series, the values are added. Otherwise, the entry for that index is NaN, which stands for *Not a Number*."
   ]
  },
  {
   "cell_type": "code",
   "execution_count": 83,
   "metadata": {},
   "outputs": [
    {
     "name": "stdout",
     "output_type": "stream",
     "text": [
      "a     8.0\n",
      "b     NaN\n",
      "c     9.0\n",
      "d    12.0\n",
      "e     NaN\n",
      "f     NaN\n",
      "dtype: float64\n"
     ]
    }
   ],
   "source": [
    "my_series_3 = Series([1,2,3,4,5],index=['e', 'a', 'd', 'c','f'])\n",
    "print(my_series_2+my_series_3)"
   ]
  },
  {
   "cell_type": "code",
   "execution_count": 13,
   "metadata": {},
   "outputs": [
    {
     "name": "stdout",
     "output_type": "stream",
     "text": [
      "1    5\n",
      "dtype: int64\n",
      "2    10\n",
      "dtype: int64\n",
      "3    15\n",
      "dtype: int64\n",
      "4    20\n",
      "dtype: int64\n"
     ]
    }
   ],
   "source": [
    "from pandas import Series\n",
    "for i in range()\n",
    "    "
   ]
  },
  {
   "cell_type": "code",
   "execution_count": 109,
   "metadata": {},
   "outputs": [],
   "source": [
    "from pandas import Series\n",
    "import pandas as pd\n",
    "def multiples_five(n):\n",
    "    s1 = pd.Series([]) \n",
    "    for i in range(1,n):\n",
    "        data= 5*i\n",
    "        if data < n:\n",
    "            #indx = i=i+i\n",
    "            s1 = s1.append(Series(data,index=[i]))\n",
    "    return s1\n",
    "     "
   ]
  },
  {
   "cell_type": "code",
   "execution_count": 110,
   "metadata": {},
   "outputs": [
    {
     "name": "stderr",
     "output_type": "stream",
     "text": [
      "c:\\Users\\Rahul Matai\\AppData\\Local\\Programs\\Python\\Python37\\lib\\site-packages\\ipykernel_launcher.py:4: DeprecationWarning: The default dtype for empty Series will be 'object' instead of 'float64' in a future version. Specify a dtype explicitly to silence this warning.\n",
      "  after removing the cwd from sys.path.\n"
     ]
    },
    {
     "data": {
      "text/plain": [
       "1     5\n",
       "2    10\n",
       "3    15\n",
       "4    20\n",
       "5    25\n",
       "dtype: int64"
      ]
     },
     "execution_count": 110,
     "metadata": {},
     "output_type": "execute_result"
    }
   ],
   "source": [
    "multiples_five(30)"
   ]
  },
  {
   "cell_type": "markdown",
   "metadata": {},
   "source": [
    "The same holds of subtraction, multiplication and division."
   ]
  },
  {
   "cell_type": "markdown",
   "metadata": {},
   "source": [
    "#### Exercise 4\n",
    "Write a function `multiples_five` that create a pandas Series where the entries are the multiples of 5 and the index corresponds to which multiple of 5 the entry in that row is. The function should have one input argument $max$, and the returned Series should include all multiples of 5 up to (but not including) $max$. For example, `multiples_five(24)` should return the Series with the entries 5, 10, 15, 20 and corresponding indices 1, 2, 3, 4."
   ]
  },
  {
   "cell_type": "code",
   "execution_count": null,
   "metadata": {},
   "outputs": [],
   "source": []
  },
  {
   "cell_type": "markdown",
   "metadata": {},
   "source": [
    "### DataFrames\n",
    "\n",
    "A DataFrame is the two-dimensional version of a Series. To create a DataFrame directly, simply pass a nested list or a dict to the function `DataFrame`."
   ]
  },
  {
   "cell_type": "code",
   "execution_count": null,
   "metadata": {
    "scrolled": true
   },
   "outputs": [],
   "source": [
    "dict_1 = {'a': np.arange(5),'b': npr.rand(5),'c': npr.randint(0,10,size=(5))}\n",
    "df_1 = DataFrame(dict_1)\n",
    "print(df_1)"
   ]
  },
  {
   "cell_type": "markdown",
   "metadata": {},
   "source": [
    "As with a Series, we can also specify the index when we create a DataFrame. We can even use one of the *key:value* pairs from our dict as the index."
   ]
  },
  {
   "cell_type": "code",
   "execution_count": 117,
   "metadata": {},
   "outputs": [
    {
     "name": "stdout",
     "output_type": "stream",
     "text": [
      "            Memory_MB  Weight_g  Camera_MP  Year\n",
      "iPhone            128       135          2  2007\n",
      "iPhone 3G         128       133          2  2008\n",
      "iPhone 3GS        256       135          3  2009\n",
      "iPhone 4          512       137          5  2010\n",
      "iPhone 4S         512       140          8  2011\n",
      "iPhone 5         1024       112          8  2012\n",
      "iPhone 5C        1024       132          8  2013\n",
      "iPhone 5S        1024       112          8  2013\n"
     ]
    }
   ],
   "source": [
    "iphone_dict = {'Name': ['iPhone', 'iPhone 3G', 'iPhone 3GS', 'iPhone 4', 'iPhone 4S', 'iPhone 5', 'iPhone 5C', 'iPhone 5S'],\n",
    "    'Memory_MB': [128, 128, 256, 512, 512, 1024, 1024, 1024],\n",
    "    'Weight_g': [135, 133, 135, 137, 140, 112, 132, 112],\n",
    "    'Camera_MP': [2, 2, 3, 5, 8, 8, 8, 8],\n",
    "    'Year': [2007, 2008, 2009, 2010, 2011, 2012, 2013, 2013] }\n",
    "iphone_df = DataFrame(iphone_dict,index=iphone_dict['Name'],columns=['Memory_MB','Weight_g','Camera_MP','Year'])\n",
    "print(iphone_df)"
   ]
  },
  {
   "cell_type": "markdown",
   "metadata": {},
   "source": [
    "The columns are attributes of the DataFrame and can be accessed using the syntax `df.column`, where *df* is the name of the DataFrame and *column* is the name of the column you wish to access. You can also access columns with the syntax `df['column']`."
   ]
  },
  {
   "cell_type": "code",
   "execution_count": null,
   "metadata": {},
   "outputs": [],
   "source": [
    "print(iphone_df.Memory_MB)"
   ]
  },
  {
   "cell_type": "code",
   "execution_count": null,
   "metadata": {},
   "outputs": [],
   "source": [
    "print(iphone_df['Weight_g'])"
   ]
  },
  {
   "cell_type": "markdown",
   "metadata": {},
   "source": [
    "To access parts of a DataFrame we use `iloc` and `loc`. `iloc` is used to access a column or row based on its integer position, where as `loc` uses the label associated with it. When using `iloc` or `loc` the first index specifies the row and the second the column. If only one index is given, all entries for the row in question are returned."
   ]
  },
  {
   "cell_type": "code",
   "execution_count": null,
   "metadata": {},
   "outputs": [],
   "source": [
    "print(iphone_df.iloc[0])"
   ]
  },
  {
   "cell_type": "code",
   "execution_count": null,
   "metadata": {},
   "outputs": [],
   "source": [
    "print(iphone_df.loc['iPhone 5C'])"
   ]
  },
  {
   "cell_type": "code",
   "execution_count": null,
   "metadata": {},
   "outputs": [],
   "source": [
    "print(iphone_df.iloc[2:4,:2])"
   ]
  },
  {
   "cell_type": "markdown",
   "metadata": {},
   "source": [
    "As with Series, the elements of a DataFrame are mutable, but the indices are not."
   ]
  },
  {
   "cell_type": "code",
   "execution_count": 1,
   "metadata": {},
   "outputs": [
    {
     "ename": "NameError",
     "evalue": "name 'iphone_df' is not defined",
     "output_type": "error",
     "traceback": [
      "\u001b[1;31m---------------------------------------------------------------------------\u001b[0m",
      "\u001b[1;31mNameError\u001b[0m                                 Traceback (most recent call last)",
      "\u001b[1;32mC:\\Users\\RAHULM~1\\AppData\\Local\\Temp/ipykernel_10720/1496344994.py\u001b[0m in \u001b[0;36m<module>\u001b[1;34m\u001b[0m\n\u001b[1;32m----> 1\u001b[1;33m \u001b[0miphone_df\u001b[0m\u001b[1;33m.\u001b[0m\u001b[0mCamera_MP\u001b[0m\u001b[1;33m[\u001b[0m\u001b[1;36m4\u001b[0m\u001b[1;33m]\u001b[0m \u001b[1;33m=\u001b[0m \u001b[1;36m6\u001b[0m\u001b[1;33m\u001b[0m\u001b[1;33m\u001b[0m\u001b[0m\n\u001b[0m\u001b[0;32m      2\u001b[0m \u001b[0mprint\u001b[0m\u001b[1;33m(\u001b[0m\u001b[0miphone_df\u001b[0m\u001b[1;33m)\u001b[0m\u001b[1;33m\u001b[0m\u001b[1;33m\u001b[0m\u001b[0m\n",
      "\u001b[1;31mNameError\u001b[0m: name 'iphone_df' is not defined"
     ]
    }
   ],
   "source": [
    "iphone_df.Camera_MP[4] = 6\n",
    "print(iphone_df)"
   ]
  },
  {
   "cell_type": "code",
   "execution_count": null,
   "metadata": {},
   "outputs": [],
   "source": [
    "iphone_df.Camera_MP = 6\n",
    "print(iphone_df)"
   ]
  },
  {
   "cell_type": "markdown",
   "metadata": {},
   "source": [
    "We can easily add columns to the DataFrame, and just as easily delete columns."
   ]
  },
  {
   "cell_type": "code",
   "execution_count": null,
   "metadata": {},
   "outputs": [],
   "source": [
    "iphone_df['Resolution_PPI'] = [163, 163, 163, 326, 326, 326, 326, 326]\n",
    "print(iphone_df)"
   ]
  },
  {
   "cell_type": "code",
   "execution_count": null,
   "metadata": {},
   "outputs": [],
   "source": [
    "del iphone_df['Camera_MP']\n",
    "print(iphone_df)"
   ]
  },
  {
   "cell_type": "markdown",
   "metadata": {},
   "source": [
    "### Pass-by-reference (again)\n",
    "Pass-by-reference also applies to Series and DataFrames. If we extract part of the DataFrame and change it, the original DataFrame is also altered."
   ]
  },
  {
   "cell_type": "code",
   "execution_count": null,
   "metadata": {},
   "outputs": [],
   "source": [
    "df_2 = DataFrame({'x': [0,1,2,3],'y': [4,5,6,7],'z': [8,9,10,11]},index=('a','b','c','d'))\n",
    "sample = df_2.x\n",
    "sample[0:2] = 10\n",
    "print(df_2)"
   ]
  },
  {
   "cell_type": "markdown",
   "metadata": {},
   "source": [
    "To create a new object, for which changing it doesn't change the original use `.copy()`"
   ]
  },
  {
   "cell_type": "code",
   "execution_count": null,
   "metadata": {},
   "outputs": [],
   "source": [
    "df_3 = DataFrame({'x': [0,1,2,3],'y': [4,5,6,7],'z': [8,9,10,11]},index=('a','b','c','d'))\n",
    "sample2 = df_3.x.copy()\n",
    "sample2[0:2] = 10\n",
    "print(df_3)"
   ]
  },
  {
   "cell_type": "markdown",
   "metadata": {},
   "source": [
    "### *in* operator\n",
    "You can use the *in* operator to determine whether a value is in a particular object."
   ]
  },
  {
   "cell_type": "code",
   "execution_count": null,
   "metadata": {},
   "outputs": [],
   "source": [
    "print(1 in range(10))\n",
    "print(10 in range(10))"
   ]
  },
  {
   "cell_type": "markdown",
   "metadata": {},
   "source": [
    "It also works with Pandas objects provided you specify whether you want to search the values or the indices."
   ]
  },
  {
   "cell_type": "code",
   "execution_count": null,
   "metadata": {},
   "outputs": [],
   "source": [
    "print(512 in iphone_df.values)\n",
    "print(512 in iphone_df.Weight_g.values)\n",
    "print('iPhone' in iphone_df.index)"
   ]
  },
  {
   "cell_type": "markdown",
   "metadata": {},
   "source": [
    "#### Exercise 5\n",
    "Take the data from the table below and store it as a pandas DataFrame. Use the *Name* column as the row index, and the remaining column headings as the column indices. After creating the DataFrame, print out Darren's height.\n",
    "\n",
    "| Name | Age | Height | Weight |\n",
    "| ----------- | ----------- | ----------- | ----------- |\n",
    "| Aaron      | 23      | 1.7   | 64     |\n",
    "| Barry      | 36      | 2.1   | 99     |\n",
    "| Catherine      | 27      | 1.8   | 68     |\n",
    "| Darren      | 19      | 1.9   | 85     |\n",
    "| Edel      | 41      | 1.7   | 102     |\n",
    "| Francis      | 38      | 2.0   | 84     |\n",
    "| George      | 57      | 1.8   | 87     |\n",
    "| Helen      | 17      | 1.6   | 90     |\n",
    "| Ian      | 28      | 1.7   | 78     |"
   ]
  },
  {
   "cell_type": "code",
   "execution_count": 119,
   "metadata": {},
   "outputs": [
    {
     "name": "stdout",
     "output_type": "stream",
     "text": [
      "Darren    1.9\n",
      "Name: Height, dtype: float64\n"
     ]
    }
   ],
   "source": [
    "human_dict = {'Name': ['Aaron', 'Barry', 'Catherine', 'Darren', 'Edel', 'Francis', 'George', 'Helen','Ian'],\n",
    "    'Age': [23, 36, 27, 19, 41, 38, 57, 17,28],\n",
    "    'Height': [1.7,2.1,1.8,1.9,1.7,2.0,1.8,1.6,1.7],\n",
    "    'Weight': [64,99,68,85,102,84,87,90,78]}\n",
    "people_df = pd.DataFrame(human_dict,index=human_dict['Name'],columns=['Age','Height','Weight'])\n",
    "print(people_df[3:4]['Height'])\n"
   ]
  },
  {
   "cell_type": "code",
   "execution_count": null,
   "metadata": {},
   "outputs": [],
   "source": [
    "import numpy as np\n"
   ]
  },
  {
   "cell_type": "code",
   "execution_count": null,
   "metadata": {},
   "outputs": [],
   "source": [
    "def matrix_multiplication(n):\n",
    "    X = np.array(range(n**2+1)).reshape((n,n))\n",
    "    Y = np.array(range(n**2,1,-1))\n",
    "    print(Y.dot(X))"
   ]
  }
 ],
 "metadata": {
  "kernelspec": {
   "display_name": "Python 3.7.9 64-bit",
   "language": "python",
   "name": "python3"
  },
  "language_info": {
   "codemirror_mode": {
    "name": "ipython",
    "version": 3
   },
   "file_extension": ".py",
   "mimetype": "text/x-python",
   "name": "python",
   "nbconvert_exporter": "python",
   "pygments_lexer": "ipython3",
   "version": "3.7.9"
  },
  "vscode": {
   "interpreter": {
    "hash": "2d4f0a46cd29155c05dc1db2a5273a091d51a5243ea4bfe3fb06387f3918af53"
   }
  }
 },
 "nbformat": 4,
 "nbformat_minor": 4
}
